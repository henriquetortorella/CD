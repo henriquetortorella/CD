{
 "cells": [
  {
   "cell_type": "markdown",
   "metadata": {},
   "source": [
    "___\n",
    "# PROJETO 1"
   ]
  },
  {
   "cell_type": "markdown",
   "metadata": {},
   "source": [
    "## <font color='red'>Henrique Tortorella</font>\n",
    "___"
   ]
  },
  {
   "cell_type": "markdown",
   "metadata": {},
   "source": [
    "## <font color='blue'>Como a educação está relacionada com o aumento da renda dos aposentados</font>"
   ]
  },
  {
   "cell_type": "markdown",
   "metadata": {},
   "source": [
    "## Introdução\n",
    "\n",
    "Neste trabalho busco mostrar a importância da educação, e como seu aumento está relacionado com varias outras coisas muito importantes, como a renda. Neste trabalho me concentrei em demostrar que o aumento da educação está diretamente relacionado ao aumento da renda das pessoas, em especial dos aposentados. A pergunta é: Será que o aumento da educação está conectado com o aumento da renda? "
   ]
  },
  {
   "cell_type": "markdown",
   "metadata": {},
   "source": [
    "___\n",
    "## Análise e Resultados"
   ]
  },
  {
   "cell_type": "code",
   "execution_count": 148,
   "metadata": {
    "collapsed": true
   },
   "outputs": [],
   "source": [
    "%matplotlib inline\n",
    "import pandas as pd\n",
    "import matplotlib.pyplot as plt\n",
    "import numpy as np\n",
    "import os\n",
    "import math"
   ]
  },
  {
   "cell_type": "code",
   "execution_count": 149,
   "metadata": {
    "collapsed": false
   },
   "outputs": [
    {
     "name": "stdout",
     "output_type": "stream",
     "text": [
      "Esperamos trabalhar no diretório\n",
      "C:\\Users\\henri\\Desktop\\faculdade\\2-semestre\\ciência dos dados\\projetos\\projeto 1\n"
     ]
    }
   ],
   "source": [
    "print('Esperamos trabalhar no diretório')\n",
    "print(os.getcwd())"
   ]
  },
  {
   "cell_type": "code",
   "execution_count": 150,
   "metadata": {
    "collapsed": false
   },
   "outputs": [],
   "source": [
    "#Leitura da base já em formato de DataFrame e extensão .csv\n",
    "pnad2014 = pd.read_csv('PNAD2014.csv', sep=',')\n",
    "\n",
    "pnad2001 = pd.read_csv('PNAD2001.csv', sep=',')\n"
   ]
  },
  {
   "cell_type": "markdown",
   "metadata": {},
   "source": [
    "___"
   ]
  },
  {
   "cell_type": "code",
   "execution_count": 151,
   "metadata": {
    "collapsed": false
   },
   "outputs": [],
   "source": [
    "#renomeando a categoria da quantidade de salários\n",
    "pnad2014.V4743 = pnad2014.V4743.astype('category')\n",
    "pnad2014.V4743.cat.categories = ('Sem rendimento','Até ¼ S.M','Mais de ¼ até ½ S.M','Mais de ½ até 1 S.M','Mais de 1 até 2 S.M','Mais de 2 até 3 S.M','Mais de 3 até 5 S.M','Mais de 5 S.M','Sem declaração')\n",
    "\n",
    "pnad2001.v9533 = pnad2001.v9533.astype('category')\n",
    "pnad2001.v9533.cat.categories = ('Até ½ S.M','Mais de ½ até 1 S.M','Mais de 1 até 2 S.M','Mais de 2 até 3 S.M','Mais de 3 até 5 S.M','Mais de 5 S.M','Mais de 5 S..M','mais de 5 S..M','Sem declaração','Prejuízo')\n"
   ]
  },
  {
   "cell_type": "code",
   "execution_count": 152,
   "metadata": {
    "collapsed": false
   },
   "outputs": [
    {
     "data": {
      "text/html": [
       "<div>\n",
       "<table border=\"1\" class=\"dataframe\">\n",
       "  <thead>\n",
       "    <tr style=\"text-align: right;\">\n",
       "      <th></th>\n",
       "      <th>Unnamed: 0</th>\n",
       "      <th>V0101</th>\n",
       "      <th>UF</th>\n",
       "      <th>V0102</th>\n",
       "      <th>V0103</th>\n",
       "      <th>V0301</th>\n",
       "      <th>V0302</th>\n",
       "      <th>V3031</th>\n",
       "      <th>V3032</th>\n",
       "      <th>V3033</th>\n",
       "      <th>...</th>\n",
       "      <th>V4741</th>\n",
       "      <th>V4742</th>\n",
       "      <th>V4743</th>\n",
       "      <th>V4745</th>\n",
       "      <th>V4746</th>\n",
       "      <th>V4747</th>\n",
       "      <th>V4748</th>\n",
       "      <th>V4749</th>\n",
       "      <th>V4750</th>\n",
       "      <th>V9993</th>\n",
       "    </tr>\n",
       "  </thead>\n",
       "  <tbody>\n",
       "    <tr>\n",
       "      <th>0</th>\n",
       "      <td>0</td>\n",
       "      <td>2014</td>\n",
       "      <td>11</td>\n",
       "      <td>15</td>\n",
       "      <td>1</td>\n",
       "      <td>1</td>\n",
       "      <td>2</td>\n",
       "      <td>19</td>\n",
       "      <td>8</td>\n",
       "      <td>1987</td>\n",
       "      <td>...</td>\n",
       "      <td>3</td>\n",
       "      <td>500</td>\n",
       "      <td>Mais de ½ até 1 S.M</td>\n",
       "      <td>3</td>\n",
       "      <td>1</td>\n",
       "      <td>2</td>\n",
       "      <td>2</td>\n",
       "      <td>1</td>\n",
       "      <td>500</td>\n",
       "      <td>20160623</td>\n",
       "    </tr>\n",
       "    <tr>\n",
       "      <th>1</th>\n",
       "      <td>1</td>\n",
       "      <td>2014</td>\n",
       "      <td>11</td>\n",
       "      <td>15</td>\n",
       "      <td>1</td>\n",
       "      <td>2</td>\n",
       "      <td>4</td>\n",
       "      <td>19</td>\n",
       "      <td>1</td>\n",
       "      <td>1986</td>\n",
       "      <td>...</td>\n",
       "      <td>3</td>\n",
       "      <td>500</td>\n",
       "      <td>Mais de ½ até 1 S.M</td>\n",
       "      <td>4</td>\n",
       "      <td>2</td>\n",
       "      <td>NaN</td>\n",
       "      <td>2</td>\n",
       "      <td>1</td>\n",
       "      <td>500</td>\n",
       "      <td>20160623</td>\n",
       "    </tr>\n",
       "    <tr>\n",
       "      <th>2</th>\n",
       "      <td>2</td>\n",
       "      <td>2014</td>\n",
       "      <td>11</td>\n",
       "      <td>15</td>\n",
       "      <td>1</td>\n",
       "      <td>3</td>\n",
       "      <td>2</td>\n",
       "      <td>14</td>\n",
       "      <td>5</td>\n",
       "      <td>2013</td>\n",
       "      <td>...</td>\n",
       "      <td>3</td>\n",
       "      <td>500</td>\n",
       "      <td>Mais de ½ até 1 S.M</td>\n",
       "      <td>1</td>\n",
       "      <td>NaN</td>\n",
       "      <td>NaN</td>\n",
       "      <td>NaN</td>\n",
       "      <td>NaN</td>\n",
       "      <td>500</td>\n",
       "      <td>20160623</td>\n",
       "    </tr>\n",
       "    <tr>\n",
       "      <th>3</th>\n",
       "      <td>3</td>\n",
       "      <td>2014</td>\n",
       "      <td>11</td>\n",
       "      <td>15</td>\n",
       "      <td>2</td>\n",
       "      <td>1</td>\n",
       "      <td>2</td>\n",
       "      <td>8</td>\n",
       "      <td>4</td>\n",
       "      <td>1963</td>\n",
       "      <td>...</td>\n",
       "      <td>2</td>\n",
       "      <td>1150</td>\n",
       "      <td>Mais de 1 até 2 S.M</td>\n",
       "      <td>2</td>\n",
       "      <td>1</td>\n",
       "      <td>2</td>\n",
       "      <td>2</td>\n",
       "      <td>1</td>\n",
       "      <td>1150</td>\n",
       "      <td>20160623</td>\n",
       "    </tr>\n",
       "    <tr>\n",
       "      <th>4</th>\n",
       "      <td>4</td>\n",
       "      <td>2014</td>\n",
       "      <td>11</td>\n",
       "      <td>15</td>\n",
       "      <td>2</td>\n",
       "      <td>2</td>\n",
       "      <td>4</td>\n",
       "      <td>6</td>\n",
       "      <td>11</td>\n",
       "      <td>1970</td>\n",
       "      <td>...</td>\n",
       "      <td>2</td>\n",
       "      <td>1150</td>\n",
       "      <td>Mais de 1 até 2 S.M</td>\n",
       "      <td>3</td>\n",
       "      <td>1</td>\n",
       "      <td>2</td>\n",
       "      <td>2</td>\n",
       "      <td>1</td>\n",
       "      <td>1150</td>\n",
       "      <td>20160623</td>\n",
       "    </tr>\n",
       "  </tbody>\n",
       "</table>\n",
       "<p>5 rows × 342 columns</p>\n",
       "</div>"
      ],
      "text/plain": [
       "   Unnamed: 0  V0101  UF  V0102  V0103  V0301  V0302  V3031  V3032  V3033  \\\n",
       "0           0   2014  11     15      1      1      2     19      8   1987   \n",
       "1           1   2014  11     15      1      2      4     19      1   1986   \n",
       "2           2   2014  11     15      1      3      2     14      5   2013   \n",
       "3           3   2014  11     15      2      1      2      8      4   1963   \n",
       "4           4   2014  11     15      2      2      4      6     11   1970   \n",
       "\n",
       "     ...     V4741  V4742                V4743  V4745  V4746  V4747  V4748  \\\n",
       "0    ...         3    500  Mais de ½ até 1 S.M      3      1      2      2   \n",
       "1    ...         3    500  Mais de ½ até 1 S.M      4      2    NaN      2   \n",
       "2    ...         3    500  Mais de ½ até 1 S.M      1    NaN    NaN    NaN   \n",
       "3    ...         2   1150  Mais de 1 até 2 S.M      2      1      2      2   \n",
       "4    ...         2   1150  Mais de 1 até 2 S.M      3      1      2      2   \n",
       "\n",
       "   V4749  V4750     V9993  \n",
       "0      1    500  20160623  \n",
       "1      1    500  20160623  \n",
       "2    NaN    500  20160623  \n",
       "3      1   1150  20160623  \n",
       "4      1   1150  20160623  \n",
       "\n",
       "[5 rows x 342 columns]"
      ]
     },
     "execution_count": 152,
     "metadata": {},
     "output_type": "execute_result"
    }
   ],
   "source": [
    "#trocando as variaveis de nome para facilitar o trabalho\n",
    "aposentados = pnad2014.V9122\n",
    "regioes = pnad2014.V4728\n",
    "estudo = pnad2014.V4838\n",
    "salario = pnad2014.V4743\n",
    "\n",
    "\n",
    "aposentados_1= pnad2001.v9122\n",
    "regioes_1 = pnad2001.v4728\n",
    "estudo_1 = pnad2001.v4788\n",
    "salario_1 = pnad2001.v9533\n",
    "\n",
    "aposentados_14 = pnad2014.V9122[pnad2014.V9122==2]\n",
    "n_14 = aposentados_14.shape[0]\n",
    "pnad2014.head()\n",
    "\n"
   ]
  },
  {
   "cell_type": "markdown",
   "metadata": {},
   "source": [
    "## <font color='green'>Analisandos a quantidade de aposentados e não aposentados em 2014</font>"
   ]
  },
  {
   "cell_type": "code",
   "execution_count": 153,
   "metadata": {
    "collapsed": false
   },
   "outputs": [
    {
     "name": "stdout",
     "output_type": "stream",
     "text": [
      "O total de pessoas da PNAD de 2014 é: 362627\n",
      "A quantidade de aposentados em 2014 é de: 38643\n"
     ]
    }
   ],
   "source": [
    "#imprimindo a quantidade de pessoas aposentadas e não aposentadas em 2014\n",
    "total_14 = pnad2014.shape[0]\n",
    "print('O total de pessoas da PNAD de 2014 é:', total_14)\n",
    "\n",
    "\n",
    "print('A quantidade de aposentados em 2014 é de:',n_14)\n"
   ]
  },
  {
   "cell_type": "code",
   "execution_count": 154,
   "metadata": {
    "collapsed": false
   },
   "outputs": [
    {
     "data": {
      "text/html": [
       "<div>\n",
       "<table border=\"1\" class=\"dataframe\">\n",
       "  <thead>\n",
       "    <tr style=\"text-align: right;\">\n",
       "      <th></th>\n",
       "      <th>V9122</th>\n",
       "    </tr>\n",
       "  </thead>\n",
       "  <tbody>\n",
       "    <tr>\n",
       "      <th>5</th>\n",
       "      <td>2</td>\n",
       "    </tr>\n",
       "    <tr>\n",
       "      <th>11</th>\n",
       "      <td>2</td>\n",
       "    </tr>\n",
       "    <tr>\n",
       "      <th>25</th>\n",
       "      <td>2</td>\n",
       "    </tr>\n",
       "    <tr>\n",
       "      <th>26</th>\n",
       "      <td>2</td>\n",
       "    </tr>\n",
       "    <tr>\n",
       "      <th>51</th>\n",
       "      <td>2</td>\n",
       "    </tr>\n",
       "    <tr>\n",
       "      <th>62</th>\n",
       "      <td>2</td>\n",
       "    </tr>\n",
       "    <tr>\n",
       "      <th>66</th>\n",
       "      <td>2</td>\n",
       "    </tr>\n",
       "    <tr>\n",
       "      <th>77</th>\n",
       "      <td>2</td>\n",
       "    </tr>\n",
       "    <tr>\n",
       "      <th>82</th>\n",
       "      <td>2</td>\n",
       "    </tr>\n",
       "    <tr>\n",
       "      <th>87</th>\n",
       "      <td>2</td>\n",
       "    </tr>\n",
       "  </tbody>\n",
       "</table>\n",
       "</div>"
      ],
      "text/plain": [
       "    V9122\n",
       "5       2\n",
       "11      2\n",
       "25      2\n",
       "26      2\n",
       "51      2\n",
       "62      2\n",
       "66      2\n",
       "77      2\n",
       "82      2\n",
       "87      2"
      ]
     },
     "execution_count": 154,
     "metadata": {},
     "output_type": "execute_result"
    }
   ],
   "source": [
    "pd.DataFrame(aposentados_14.iloc[0:10])\n"
   ]
  },
  {
   "cell_type": "code",
   "execution_count": 208,
   "metadata": {
    "collapsed": false
   },
   "outputs": [
    {
     "name": "stdout",
     "output_type": "stream",
     "text": [
      "a quantidade de pessoas aposentadas e nao aposentadas em %:\n",
      "2    10.7\n",
      "4    75.3\n",
      "Name: V9122, dtype: float64\n"
     ]
    }
   ],
   "source": [
    "#imprimindo em porcentagem a quantidade de pessoas aposentadas e não aposentadas\n",
    "\n",
    "ut2 = (pnad2014.V9122.value_counts()/total_14*100).round(decimals=1).reindex([2,4])\n",
    "print('a quantidade de pessoas aposentadas e nao aposentadas em %:')\n",
    "print(ut2)"
   ]
  },
  {
   "cell_type": "code",
   "execution_count": 156,
   "metadata": {
    "collapsed": false
   },
   "outputs": [
    {
     "data": {
      "image/png": "[encoded data removed]",
      "text/plain": [
       "<matplotlib.figure.Figure at 0x122bf944d68>"
      ]
     },
     "metadata": {},
     "output_type": "display_data"
    }
   ],
   "source": [
    "#plotando o grafico de aposentados e nao aposentados em %, em 2014\n",
    "plot = ut2.plot(kind='pie',title='Grafico dos aposentados em 2014',autopct='%.1f',figsize=(6, 6))"
   ]
  },
  {
   "cell_type": "markdown",
   "metadata": {},
   "source": [
    "## <font color='green'>Analise da quantidade de aposentados e não aposentados em 2001</font>"
   ]
  },
  {
   "cell_type": "code",
   "execution_count": 157,
   "metadata": {
    "collapsed": false
   },
   "outputs": [
    {
     "data": {
      "text/html": [
       "<div>\n",
       "<table border=\"1\" class=\"dataframe\">\n",
       "  <thead>\n",
       "    <tr style=\"text-align: right;\">\n",
       "      <th></th>\n",
       "      <th>v0101</th>\n",
       "      <th>uf</th>\n",
       "      <th>v0102</th>\n",
       "      <th>v0103</th>\n",
       "      <th>v0301</th>\n",
       "      <th>v0302</th>\n",
       "      <th>v3031</th>\n",
       "      <th>v3032</th>\n",
       "      <th>v3033</th>\n",
       "      <th>v8005</th>\n",
       "      <th>...</th>\n",
       "      <th>v2201</th>\n",
       "      <th>v2202</th>\n",
       "      <th>v1623</th>\n",
       "      <th>v1624</th>\n",
       "      <th>v1625</th>\n",
       "      <th>v1626</th>\n",
       "      <th>v1627</th>\n",
       "      <th>v1628</th>\n",
       "      <th>v1629</th>\n",
       "      <th>v1630</th>\n",
       "    </tr>\n",
       "  </thead>\n",
       "  <tbody>\n",
       "    <tr>\n",
       "      <th>0</th>\n",
       "      <td>2001</td>\n",
       "      <td>11</td>\n",
       "      <td>11000000</td>\n",
       "      <td>1</td>\n",
       "      <td>4</td>\n",
       "      <td>4</td>\n",
       "      <td>18</td>\n",
       "      <td>7</td>\n",
       "      <td>1978</td>\n",
       "      <td>23</td>\n",
       "      <td>...</td>\n",
       "      <td>NaN</td>\n",
       "      <td>NaN</td>\n",
       "      <td>NaN</td>\n",
       "      <td>NaN</td>\n",
       "      <td>NaN</td>\n",
       "      <td>NaN</td>\n",
       "      <td>NaN</td>\n",
       "      <td>NaN</td>\n",
       "      <td>NaN</td>\n",
       "      <td>NaN</td>\n",
       "    </tr>\n",
       "    <tr>\n",
       "      <th>1</th>\n",
       "      <td>2001</td>\n",
       "      <td>11</td>\n",
       "      <td>11000000</td>\n",
       "      <td>1</td>\n",
       "      <td>3</td>\n",
       "      <td>2</td>\n",
       "      <td>3</td>\n",
       "      <td>5</td>\n",
       "      <td>1977</td>\n",
       "      <td>24</td>\n",
       "      <td>...</td>\n",
       "      <td>NaN</td>\n",
       "      <td>NaN</td>\n",
       "      <td>NaN</td>\n",
       "      <td>NaN</td>\n",
       "      <td>NaN</td>\n",
       "      <td>NaN</td>\n",
       "      <td>NaN</td>\n",
       "      <td>NaN</td>\n",
       "      <td>NaN</td>\n",
       "      <td>NaN</td>\n",
       "    </tr>\n",
       "    <tr>\n",
       "      <th>2</th>\n",
       "      <td>2001</td>\n",
       "      <td>11</td>\n",
       "      <td>11000000</td>\n",
       "      <td>1</td>\n",
       "      <td>5</td>\n",
       "      <td>4</td>\n",
       "      <td>19</td>\n",
       "      <td>7</td>\n",
       "      <td>1998</td>\n",
       "      <td>3</td>\n",
       "      <td>...</td>\n",
       "      <td>NaN</td>\n",
       "      <td>NaN</td>\n",
       "      <td>NaN</td>\n",
       "      <td>NaN</td>\n",
       "      <td>NaN</td>\n",
       "      <td>NaN</td>\n",
       "      <td>NaN</td>\n",
       "      <td>NaN</td>\n",
       "      <td>NaN</td>\n",
       "      <td>NaN</td>\n",
       "    </tr>\n",
       "    <tr>\n",
       "      <th>3</th>\n",
       "      <td>2001</td>\n",
       "      <td>11</td>\n",
       "      <td>11000000</td>\n",
       "      <td>1</td>\n",
       "      <td>2</td>\n",
       "      <td>4</td>\n",
       "      <td>6</td>\n",
       "      <td>5</td>\n",
       "      <td>1982</td>\n",
       "      <td>19</td>\n",
       "      <td>...</td>\n",
       "      <td>NaN</td>\n",
       "      <td>NaN</td>\n",
       "      <td>NaN</td>\n",
       "      <td>NaN</td>\n",
       "      <td>NaN</td>\n",
       "      <td>NaN</td>\n",
       "      <td>NaN</td>\n",
       "      <td>NaN</td>\n",
       "      <td>NaN</td>\n",
       "      <td>NaN</td>\n",
       "    </tr>\n",
       "    <tr>\n",
       "      <th>4</th>\n",
       "      <td>2001</td>\n",
       "      <td>11</td>\n",
       "      <td>11000000</td>\n",
       "      <td>1</td>\n",
       "      <td>1</td>\n",
       "      <td>4</td>\n",
       "      <td>21</td>\n",
       "      <td>7</td>\n",
       "      <td>1957</td>\n",
       "      <td>44</td>\n",
       "      <td>...</td>\n",
       "      <td>NaN</td>\n",
       "      <td>NaN</td>\n",
       "      <td>NaN</td>\n",
       "      <td>NaN</td>\n",
       "      <td>NaN</td>\n",
       "      <td>NaN</td>\n",
       "      <td>NaN</td>\n",
       "      <td>NaN</td>\n",
       "      <td>NaN</td>\n",
       "      <td>NaN</td>\n",
       "    </tr>\n",
       "  </tbody>\n",
       "</table>\n",
       "<p>5 rows × 364 columns</p>\n",
       "</div>"
      ],
      "text/plain": [
       "   v0101  uf     v0102  v0103  v0301  v0302  v3031  v3032  v3033  v8005  \\\n",
       "0   2001  11  11000000      1      4      4     18      7   1978     23   \n",
       "1   2001  11  11000000      1      3      2      3      5   1977     24   \n",
       "2   2001  11  11000000      1      5      4     19      7   1998      3   \n",
       "3   2001  11  11000000      1      2      4      6      5   1982     19   \n",
       "4   2001  11  11000000      1      1      4     21      7   1957     44   \n",
       "\n",
       "   ...    v2201  v2202  v1623  v1624  v1625  v1626  v1627  v1628  v1629  v1630  \n",
       "0  ...      NaN    NaN    NaN    NaN    NaN    NaN    NaN    NaN    NaN    NaN  \n",
       "1  ...      NaN    NaN    NaN    NaN    NaN    NaN    NaN    NaN    NaN    NaN  \n",
       "2  ...      NaN    NaN    NaN    NaN    NaN    NaN    NaN    NaN    NaN    NaN  \n",
       "3  ...      NaN    NaN    NaN    NaN    NaN    NaN    NaN    NaN    NaN    NaN  \n",
       "4  ...      NaN    NaN    NaN    NaN    NaN    NaN    NaN    NaN    NaN    NaN  \n",
       "\n",
       "[5 rows x 364 columns]"
      ]
     },
     "execution_count": 157,
     "metadata": {},
     "output_type": "execute_result"
    }
   ],
   "source": [
    "pnad2001.head()\n"
   ]
  },
  {
   "cell_type": "code",
   "execution_count": 158,
   "metadata": {
    "collapsed": false
   },
   "outputs": [],
   "source": [
    "aposentados_01 = pnad2001.v9122[pnad2001.v9122==2]\n",
    "\n",
    "n_01 = aposentados_01.shape[0]"
   ]
  },
  {
   "cell_type": "code",
   "execution_count": 159,
   "metadata": {
    "collapsed": false
   },
   "outputs": [
    {
     "name": "stdout",
     "output_type": "stream",
     "text": [
      "O total de pessoas da PNAD de 2001 é: 378843\n",
      "A quantidade de aposentados em 2001 é de: 29975\n"
     ]
    }
   ],
   "source": [
    "#imprimindo a o total de aposentados e não aposentados em 2001\n",
    "total_01 = pnad2001.shape[0]\n",
    "print('O total de pessoas da PNAD de 2001 é:', total_01)\n",
    "\n",
    "print('A quantidade de aposentados em 2001 é de:',n_01)"
   ]
  },
  {
   "cell_type": "code",
   "execution_count": 160,
   "metadata": {
    "collapsed": false
   },
   "outputs": [
    {
     "data": {
      "text/html": [
       "<div>\n",
       "<table border=\"1\" class=\"dataframe\">\n",
       "  <thead>\n",
       "    <tr style=\"text-align: right;\">\n",
       "      <th></th>\n",
       "      <th>v9122</th>\n",
       "    </tr>\n",
       "  </thead>\n",
       "  <tbody>\n",
       "    <tr>\n",
       "      <th>11</th>\n",
       "      <td>2</td>\n",
       "    </tr>\n",
       "    <tr>\n",
       "      <th>21</th>\n",
       "      <td>2</td>\n",
       "    </tr>\n",
       "    <tr>\n",
       "      <th>33</th>\n",
       "      <td>2</td>\n",
       "    </tr>\n",
       "    <tr>\n",
       "      <th>54</th>\n",
       "      <td>2</td>\n",
       "    </tr>\n",
       "    <tr>\n",
       "      <th>55</th>\n",
       "      <td>2</td>\n",
       "    </tr>\n",
       "    <tr>\n",
       "      <th>65</th>\n",
       "      <td>2</td>\n",
       "    </tr>\n",
       "    <tr>\n",
       "      <th>66</th>\n",
       "      <td>2</td>\n",
       "    </tr>\n",
       "    <tr>\n",
       "      <th>73</th>\n",
       "      <td>2</td>\n",
       "    </tr>\n",
       "    <tr>\n",
       "      <th>75</th>\n",
       "      <td>2</td>\n",
       "    </tr>\n",
       "    <tr>\n",
       "      <th>83</th>\n",
       "      <td>2</td>\n",
       "    </tr>\n",
       "  </tbody>\n",
       "</table>\n",
       "</div>"
      ],
      "text/plain": [
       "    v9122\n",
       "11      2\n",
       "21      2\n",
       "33      2\n",
       "54      2\n",
       "55      2\n",
       "65      2\n",
       "66      2\n",
       "73      2\n",
       "75      2\n",
       "83      2"
      ]
     },
     "execution_count": 160,
     "metadata": {},
     "output_type": "execute_result"
    }
   ],
   "source": [
    "pd.DataFrame(aposentados_01.iloc[0:10])"
   ]
  },
  {
   "cell_type": "code",
   "execution_count": 161,
   "metadata": {
    "collapsed": false
   },
   "outputs": [
    {
     "name": "stdout",
     "output_type": "stream",
     "text": [
      "2     7.9\n",
      "4    82.7\n",
      "Name: v9122, dtype: float64\n"
     ]
    }
   ],
   "source": [
    "#imprimindo a o total de aposentados e não aposentados em 2014 (em %)\n",
    "ut3 = (pnad2001.v9122.value_counts()/total_01*100).round(decimals=1).reindex([2,4])\n",
    "print(ut3)\n"
   ]
  },
  {
   "cell_type": "code",
   "execution_count": 209,
   "metadata": {
    "collapsed": false
   },
   "outputs": [
    {
     "data": {
      "image/png": "[encoded data removed]",
      "text/plain": [
       "<matplotlib.figure.Figure at 0x122cb8b6128>"
      ]
     },
     "metadata": {},
     "output_type": "display_data"
    }
   ],
   "source": [
    "#plotando o gráfico de aposentados e não aposentados em 2001\n",
    "plot = ut3.plot(kind='pie',title='Grafico dos aposentados em 2001',autopct='%.1f',figsize=(6, 6))"
   ]
  },
  {
   "cell_type": "markdown",
   "metadata": {},
   "source": [
    "## <font color='red'>Analise de aposentados e não aposentados, que moram ou em areas rurais ou urbanas em 2014</font>"
   ]
  },
  {
   "cell_type": "code",
   "execution_count": 163,
   "metadata": {
    "collapsed": false
   },
   "outputs": [
    {
     "name": "stdout",
     "output_type": "stream",
     "text": [
      "1    83.4\n",
      "8    11.5\n",
      "Name: V4728, dtype: float64\n"
     ]
    }
   ],
   "source": [
    "\n",
    "ut1 = (pnad2014.V4728.value_counts()/total_14*100).round(decimals=1).reindex([1,8])\n",
    "print(ut1)\n"
   ]
  },
  {
   "cell_type": "code",
   "execution_count": 210,
   "metadata": {
    "collapsed": false
   },
   "outputs": [
    {
     "data": {
      "image/png": "[encoded data removed]",
      "text/plain": [
       "<matplotlib.figure.Figure at 0x122cdaaa5f8>"
      ]
     },
     "metadata": {},
     "output_type": "display_data"
    }
   ],
   "source": [
    "#plotando a porcentagem de pessoas que moram ou em areas urbanas(1) ou em areas rurais(8)\n",
    "plot = ut1.plot(kind='pie',title='Pessoas que moram em zonas urbanas e rurais em 2014',autopct='%.1f',figsize=(6, 6))\n"
   ]
  },
  {
   "cell_type": "code",
   "execution_count": 165,
   "metadata": {
    "collapsed": false
   },
   "outputs": [
    {
     "name": "stdout",
     "output_type": "stream",
     "text": [
      "tabela cruzada entre regioes e aposentados em 2014\n"
     ]
    },
    {
     "data": {
      "text/html": [
       "<div>\n",
       "<table border=\"1\" class=\"dataframe\">\n",
       "  <thead>\n",
       "    <tr style=\"text-align: right;\">\n",
       "      <th>Regioes</th>\n",
       "      <th>1</th>\n",
       "      <th>2</th>\n",
       "      <th>3</th>\n",
       "      <th>4</th>\n",
       "      <th>5</th>\n",
       "      <th>6</th>\n",
       "      <th>7</th>\n",
       "      <th>8</th>\n",
       "      <th>All</th>\n",
       "    </tr>\n",
       "    <tr>\n",
       "      <th>Aposentados</th>\n",
       "      <th></th>\n",
       "      <th></th>\n",
       "      <th></th>\n",
       "      <th></th>\n",
       "      <th></th>\n",
       "      <th></th>\n",
       "      <th></th>\n",
       "      <th></th>\n",
       "      <th></th>\n",
       "    </tr>\n",
       "  </thead>\n",
       "  <tbody>\n",
       "    <tr>\n",
       "      <th>2.0</th>\n",
       "      <td>30910</td>\n",
       "      <td>531</td>\n",
       "      <td>193</td>\n",
       "      <td>89</td>\n",
       "      <td>988</td>\n",
       "      <td>22</td>\n",
       "      <td>53</td>\n",
       "      <td>5857</td>\n",
       "      <td>38643</td>\n",
       "    </tr>\n",
       "    <tr>\n",
       "      <th>4.0</th>\n",
       "      <td>230312</td>\n",
       "      <td>4209</td>\n",
       "      <td>1744</td>\n",
       "      <td>1123</td>\n",
       "      <td>5786</td>\n",
       "      <td>198</td>\n",
       "      <td>366</td>\n",
       "      <td>29380</td>\n",
       "      <td>273118</td>\n",
       "    </tr>\n",
       "    <tr>\n",
       "      <th>All</th>\n",
       "      <td>302604</td>\n",
       "      <td>5598</td>\n",
       "      <td>2275</td>\n",
       "      <td>1437</td>\n",
       "      <td>8118</td>\n",
       "      <td>268</td>\n",
       "      <td>530</td>\n",
       "      <td>41797</td>\n",
       "      <td>362627</td>\n",
       "    </tr>\n",
       "  </tbody>\n",
       "</table>\n",
       "</div>"
      ],
      "text/plain": [
       "Regioes           1     2     3     4     5    6    7      8     All\n",
       "Aposentados                                                         \n",
       "2.0           30910   531   193    89   988   22   53   5857   38643\n",
       "4.0          230312  4209  1744  1123  5786  198  366  29380  273118\n",
       "All          302604  5598  2275  1437  8118  268  530  41797  362627"
      ]
     },
     "execution_count": 165,
     "metadata": {},
     "output_type": "execute_result"
    }
   ],
   "source": [
    "#criação de tabela entre aposentados e regiões\n",
    "print('tabela cruzada entre regioes e aposentados em 2014')\n",
    "tabela1=pd.crosstab(aposentados, regioes,margins=True,rownames=['Aposentados'], colnames=['Regioes'])\n",
    "tabela1\n",
    "\n"
   ]
  },
  {
   "cell_type": "code",
   "execution_count": 166,
   "metadata": {
    "collapsed": false
   },
   "outputs": [
    {
     "name": "stdout",
     "output_type": "stream",
     "text": [
      "grafico entre regioes e aposentados e nao aposentados em 2014\n"
     ]
    },
    {
     "data": {
      "text/plain": [
       "<matplotlib.axes._subplots.AxesSubplot at 0x122cc3b7198>"
      ]
     },
     "execution_count": 166,
     "metadata": {},
     "output_type": "execute_result"
    },
    {
     "data": {
      "image/png": "[encoded data removed]",
      "text/plain": [
       "<matplotlib.figure.Figure at 0x122bfe9d9b0>"
      ]
     },
     "metadata": {},
     "output_type": "display_data"
    }
   ],
   "source": [
    "#criando grafico da tabela superior\n",
    "print('grafico entre regioes e aposentados e nao aposentados em 2014')\n",
    "pd.crosstab(aposentados, regioes,margins=True,rownames=['Aposentados'], colnames=['Regioes']).plot(kind='bar')\n",
    "\n"
   ]
  },
  {
   "cell_type": "code",
   "execution_count": 167,
   "metadata": {
    "collapsed": false
   },
   "outputs": [
    {
     "name": "stdout",
     "output_type": "stream",
     "text": [
      "tabela cruzada entre regioes e aposentados em 2014 em porcentagem\n"
     ]
    },
    {
     "data": {
      "text/html": [
       "<div>\n",
       "<table border=\"1\" class=\"dataframe\">\n",
       "  <thead>\n",
       "    <tr style=\"text-align: right;\">\n",
       "      <th></th>\n",
       "      <th>1</th>\n",
       "      <th>2</th>\n",
       "      <th>3</th>\n",
       "      <th>4</th>\n",
       "      <th>5</th>\n",
       "      <th>6</th>\n",
       "      <th>7</th>\n",
       "      <th>8</th>\n",
       "      <th>All</th>\n",
       "    </tr>\n",
       "    <tr>\n",
       "      <th>Aposentados</th>\n",
       "      <th></th>\n",
       "      <th></th>\n",
       "      <th></th>\n",
       "      <th></th>\n",
       "      <th></th>\n",
       "      <th></th>\n",
       "      <th></th>\n",
       "      <th></th>\n",
       "      <th></th>\n",
       "    </tr>\n",
       "  </thead>\n",
       "  <tbody>\n",
       "    <tr>\n",
       "      <th>2</th>\n",
       "      <td>8.5</td>\n",
       "      <td>0.1</td>\n",
       "      <td>0.1</td>\n",
       "      <td>0</td>\n",
       "      <td>0.3</td>\n",
       "      <td>0</td>\n",
       "      <td>0</td>\n",
       "      <td>1.6</td>\n",
       "      <td>10.7</td>\n",
       "    </tr>\n",
       "  </tbody>\n",
       "</table>\n",
       "</div>"
      ],
      "text/plain": [
       "               1    2    3  4    5  6  7    8   All\n",
       "Aposentados                                        \n",
       "2            8.5  0.1  0.1  0  0.3  0  0  1.6  10.7"
      ]
     },
     "execution_count": 167,
     "metadata": {},
     "output_type": "execute_result"
    }
   ],
   "source": [
    "#criando tabela das pessoa que sao aposentadas e moram em regioes ou urbanas ou rurais\n",
    "print('tabela cruzada entre regioes e aposentados em 2014 em porcentagem')\n",
    "tabelap=(tabela1/total_14*100).round(decimals=1)\n",
    "tabelap.iloc[0:1,]"
   ]
  },
  {
   "cell_type": "code",
   "execution_count": 168,
   "metadata": {
    "collapsed": false
   },
   "outputs": [
    {
     "name": "stdout",
     "output_type": "stream",
     "text": [
      "grafico da freq relativa de aposentados em cada regiao em 2014:\n"
     ]
    },
    {
     "data": {
      "text/plain": [
       "<matplotlib.text.Text at 0x122bfa2d1d0>"
      ]
     },
     "execution_count": 168,
     "metadata": {},
     "output_type": "execute_result"
    },
    {
     "data": {
      "image/png": "[encoded data removed]",
      "text/plain": [
       "<matplotlib.figure.Figure at 0x122bf9bfa90>"
      ]
     },
     "metadata": {},
     "output_type": "display_data"
    }
   ],
   "source": [
    "#criando grafico de aposentados e nao aposentados que moram ou em regioes rurais ou urbanas\n",
    "print('grafico da freq relativa de aposentados em cada regiao em 2014:')\n",
    "grafico = pd.crosstab(aposentados,regioes,margins=True,rownames=['Aposentados'], colnames=['Regioes'])\n",
    "grafico = (grafico/ total_14*100).round(decimals=0)\n",
    "\n",
    "plot = grafico.plot(kind='bar')\n",
    "\n",
    "plt.ylabel('Freq.Relativa (em%)')"
   ]
  },
  {
   "cell_type": "markdown",
   "metadata": {
    "collapsed": true
   },
   "source": [
    "## <font color='red'>Analise de aposentados e não aposentados, que moram ou em areas rurais ou urbanas em 2001</font>"
   ]
  },
  {
   "cell_type": "code",
   "execution_count": 169,
   "metadata": {
    "collapsed": false
   },
   "outputs": [
    {
     "name": "stdout",
     "output_type": "stream",
     "text": [
      "1    84.7\n",
      "8    12.1\n",
      "Name: v4728, dtype: float64\n"
     ]
    }
   ],
   "source": [
    "#separando a quantidade de pessoas que moram em areas rurais(8) ou urbanas(1)\n",
    "ut4 = (regioes_1.value_counts()/total_01*100).round(decimals=1).reindex([1,8])\n",
    "print(ut4)\n"
   ]
  },
  {
   "cell_type": "code",
   "execution_count": 170,
   "metadata": {
    "collapsed": false
   },
   "outputs": [
    {
     "data": {
      "image/png": "[encoded data removed]",
      "text/plain": [
       "<matplotlib.figure.Figure at 0x122cb785eb8>"
      ]
     },
     "metadata": {},
     "output_type": "display_data"
    }
   ],
   "source": [
    "#criando gráfico da quantidade de pessoas que moram em area rurais ou urbanas em 2014\n",
    "plot = ut4.plot(kind='pie',title='Pessoas que moram em zonas urbanas e rurais em 2001',autopct='%.1f',figsize=(6, 6))"
   ]
  },
  {
   "cell_type": "code",
   "execution_count": 171,
   "metadata": {
    "collapsed": false
   },
   "outputs": [
    {
     "name": "stdout",
     "output_type": "stream",
     "text": [
      "tabela cruzada entre regioes e aposentados em 2001\n"
     ]
    },
    {
     "data": {
      "text/html": [
       "<div>\n",
       "<table border=\"1\" class=\"dataframe\">\n",
       "  <thead>\n",
       "    <tr style=\"text-align: right;\">\n",
       "      <th>Regioes</th>\n",
       "      <th>0.0</th>\n",
       "      <th>1.0</th>\n",
       "      <th>2.0</th>\n",
       "      <th>3.0</th>\n",
       "      <th>4.0</th>\n",
       "      <th>5.0</th>\n",
       "      <th>7.0</th>\n",
       "      <th>8.0</th>\n",
       "      <th>All</th>\n",
       "    </tr>\n",
       "    <tr>\n",
       "      <th>Aposentados</th>\n",
       "      <th></th>\n",
       "      <th></th>\n",
       "      <th></th>\n",
       "      <th></th>\n",
       "      <th></th>\n",
       "      <th></th>\n",
       "      <th></th>\n",
       "      <th></th>\n",
       "      <th></th>\n",
       "    </tr>\n",
       "  </thead>\n",
       "  <tbody>\n",
       "    <tr>\n",
       "      <th>2.0</th>\n",
       "      <td>0</td>\n",
       "      <td>24386</td>\n",
       "      <td>190</td>\n",
       "      <td>114</td>\n",
       "      <td>44</td>\n",
       "      <td>460</td>\n",
       "      <td>15</td>\n",
       "      <td>4764</td>\n",
       "      <td>29975</td>\n",
       "    </tr>\n",
       "    <tr>\n",
       "      <th>4.0</th>\n",
       "      <td>1</td>\n",
       "      <td>267173</td>\n",
       "      <td>2810</td>\n",
       "      <td>1624</td>\n",
       "      <td>1035</td>\n",
       "      <td>4030</td>\n",
       "      <td>152</td>\n",
       "      <td>36413</td>\n",
       "      <td>313246</td>\n",
       "    </tr>\n",
       "    <tr>\n",
       "      <th>All</th>\n",
       "      <td>5</td>\n",
       "      <td>321062</td>\n",
       "      <td>3398</td>\n",
       "      <td>1969</td>\n",
       "      <td>1213</td>\n",
       "      <td>5019</td>\n",
       "      <td>208</td>\n",
       "      <td>45938</td>\n",
       "      <td>378843</td>\n",
       "    </tr>\n",
       "  </tbody>\n",
       "</table>\n",
       "</div>"
      ],
      "text/plain": [
       "Regioes      0.0     1.0   2.0   3.0   4.0   5.0  7.0    8.0     All\n",
       "Aposentados                                                         \n",
       "2.0            0   24386   190   114    44   460   15   4764   29975\n",
       "4.0            1  267173  2810  1624  1035  4030  152  36413  313246\n",
       "All            5  321062  3398  1969  1213  5019  208  45938  378843"
      ]
     },
     "execution_count": 171,
     "metadata": {},
     "output_type": "execute_result"
    }
   ],
   "source": [
    "#tabela de aposentados e nao aposentados, e quantidade que moram em areas rurais ou urbanas\n",
    "print('tabela cruzada entre regioes e aposentados em 2001')\n",
    "tabela2=pd.crosstab(aposentados_1, regioes_1,margins=True,rownames=['Aposentados'], colnames=['Regioes'])\n",
    "tabela2"
   ]
  },
  {
   "cell_type": "code",
   "execution_count": 172,
   "metadata": {
    "collapsed": false
   },
   "outputs": [
    {
     "name": "stdout",
     "output_type": "stream",
     "text": [
      "grafico entre regioes e aposentados e nao aposentados em 2014\n"
     ]
    },
    {
     "data": {
      "text/plain": [
       "<matplotlib.axes._subplots.AxesSubplot at 0x122bf951588>"
      ]
     },
     "execution_count": 172,
     "metadata": {},
     "output_type": "execute_result"
    },
    {
     "data": {
      "image/png": "[encoded data removed]",
      "text/plain": [
       "<matplotlib.figure.Figure at 0x122bfba1128>"
      ]
     },
     "metadata": {},
     "output_type": "display_data"
    }
   ],
   "source": [
    "\n",
    "print('grafico entre regioes e aposentados e nao aposentados em 2014')\n",
    "pd.crosstab(aposentados_1, regioes_1).plot(kind='bar')"
   ]
  },
  {
   "cell_type": "code",
   "execution_count": 173,
   "metadata": {
    "collapsed": false
   },
   "outputs": [
    {
     "name": "stdout",
     "output_type": "stream",
     "text": [
      "tabela cruzada entre regioes e aposentados em 2001 em porcentagem\n"
     ]
    },
    {
     "data": {
      "text/html": [
       "<div>\n",
       "<table border=\"1\" class=\"dataframe\">\n",
       "  <thead>\n",
       "    <tr style=\"text-align: right;\">\n",
       "      <th></th>\n",
       "      <th>0.0</th>\n",
       "      <th>1.0</th>\n",
       "      <th>2.0</th>\n",
       "      <th>3.0</th>\n",
       "      <th>4.0</th>\n",
       "      <th>5.0</th>\n",
       "      <th>7.0</th>\n",
       "      <th>8.0</th>\n",
       "      <th>All</th>\n",
       "    </tr>\n",
       "    <tr>\n",
       "      <th>Aposentados</th>\n",
       "      <th></th>\n",
       "      <th></th>\n",
       "      <th></th>\n",
       "      <th></th>\n",
       "      <th></th>\n",
       "      <th></th>\n",
       "      <th></th>\n",
       "      <th></th>\n",
       "      <th></th>\n",
       "    </tr>\n",
       "  </thead>\n",
       "  <tbody>\n",
       "    <tr>\n",
       "      <th>2</th>\n",
       "      <td>0</td>\n",
       "      <td>6.4</td>\n",
       "      <td>0.1</td>\n",
       "      <td>0</td>\n",
       "      <td>0</td>\n",
       "      <td>0.1</td>\n",
       "      <td>0</td>\n",
       "      <td>1.3</td>\n",
       "      <td>7.9</td>\n",
       "    </tr>\n",
       "  </tbody>\n",
       "</table>\n",
       "</div>"
      ],
      "text/plain": [
       "             0.0  1.0  2.0  3.0  4.0  5.0  7.0  8.0  All\n",
       "Aposentados                                             \n",
       "2              0  6.4  0.1    0    0  0.1    0  1.3  7.9"
      ]
     },
     "execution_count": 173,
     "metadata": {},
     "output_type": "execute_result"
    }
   ],
   "source": [
    "print('tabela cruzada entre regioes e aposentados em 2001 em porcentagem')\n",
    "tabelap2=(tabela2/total_01*100).round(decimals=1)\n",
    "tabelap2.iloc[0:1,]"
   ]
  },
  {
   "cell_type": "code",
   "execution_count": 174,
   "metadata": {
    "collapsed": false
   },
   "outputs": [
    {
     "name": "stdout",
     "output_type": "stream",
     "text": [
      "grafico da freq relativa de aposentados em cada regiao em 2001:\n"
     ]
    },
    {
     "data": {
      "text/plain": [
       "<matplotlib.text.Text at 0x122bfcfaeb8>"
      ]
     },
     "execution_count": 174,
     "metadata": {},
     "output_type": "execute_result"
    },
    {
     "data": {
      "image/png": "[encoded data removed]",
      "text/plain": [
       "<matplotlib.figure.Figure at 0x122bfb6b9b0>"
      ]
     },
     "metadata": {},
     "output_type": "display_data"
    }
   ],
   "source": [
    "print('grafico da freq relativa de aposentados em cada regiao em 2001:')\n",
    "grafico2 = pd.crosstab(aposentados_1,regioes_1,margins=True,rownames=['Aposentados'], colnames=['Regioes'])\n",
    "grafico2 = (grafico2/ total_01*100).round(decimals=0)\n",
    "\n",
    "plot = grafico2.plot(kind='bar')\n",
    "\n",
    "\n",
    "plt.ylabel('Freq.Relativa (em%)')"
   ]
  },
  {
   "cell_type": "markdown",
   "metadata": {},
   "source": [
    "## <font color='orange'>Analise de aposentados e não aposentados, comparando com anos de estudos em 2014 (separados em categorias)</font>"
   ]
  },
  {
   "cell_type": "code",
   "execution_count": 175,
   "metadata": {
    "collapsed": false
   },
   "outputs": [
    {
     "name": "stdout",
     "output_type": "stream",
     "text": [
      "porcentagem doa anos de estudo para as pessoas:\n",
      "5    24.9\n",
      "3    21.7\n",
      "1    19.1\n",
      "4    14.9\n",
      "2    11.2\n",
      "6     8.1\n",
      "7     0.1\n",
      "Name: V4838, dtype: float64\n"
     ]
    }
   ],
   "source": [
    "print('porcentagem doa anos de estudo para as pessoas:')\n",
    "\n",
    "ut5 = (estudo.value_counts()/total_14*100).round(decimals=1)\n",
    "print(ut5)"
   ]
  },
  {
   "cell_type": "code",
   "execution_count": 176,
   "metadata": {
    "collapsed": false
   },
   "outputs": [
    {
     "data": {
      "image/png": "[encoded data removed]",
      "text/plain": [
       "<matplotlib.figure.Figure at 0x122cc535f28>"
      ]
     },
     "metadata": {},
     "output_type": "display_data"
    }
   ],
   "source": [
    "plot = ut5.plot(kind='pie',title='anos de estudos em 2014',autopct='%.1f',figsize=(6, 6))"
   ]
  },
  {
   "cell_type": "code",
   "execution_count": 177,
   "metadata": {
    "collapsed": false
   },
   "outputs": [
    {
     "data": {
      "text/plain": [
       "(4, 5]    90250\n",
       "(2, 3]    78829\n",
       "(3, 4]    54006\n",
       "(1, 2]    40564\n",
       "(5, 6]    29345\n",
       "(6, 7]      394\n",
       "dtype: int64"
      ]
     },
     "execution_count": 177,
     "metadata": {},
     "output_type": "execute_result"
    }
   ],
   "source": [
    "\n",
    "faixa = range(1,8,1)\n",
    "frequencia = pd.cut(estudo, faixa)\n",
    "frequencia.value_counts()\n",
    "\n"
   ]
  },
  {
   "cell_type": "code",
   "execution_count": 178,
   "metadata": {
    "collapsed": false
   },
   "outputs": [
    {
     "name": "stdout",
     "output_type": "stream",
     "text": [
      "histograma entre anos de estudo para toda a população da Pnad em 2014\n"
     ]
    },
    {
     "data": {
      "image/png": "[encoded data removed]",
      "text/plain": [
       "<matplotlib.figure.Figure at 0x122802d8320>"
      ]
     },
     "metadata": {},
     "output_type": "display_data"
    }
   ],
   "source": [
    "print('histograma entre anos de estudo para toda a população da Pnad em 2014')\n",
    "plot = estudo.plot.hist(bins=faixa)"
   ]
  },
  {
   "cell_type": "code",
   "execution_count": 179,
   "metadata": {
    "collapsed": false
   },
   "outputs": [
    {
     "name": "stdout",
     "output_type": "stream",
     "text": [
      "tabela cruzada entre anos de estudo e aposentados em 2014\n"
     ]
    },
    {
     "data": {
      "text/html": [
       "<div>\n",
       "<table border=\"1\" class=\"dataframe\">\n",
       "  <thead>\n",
       "    <tr style=\"text-align: right;\">\n",
       "      <th>anos de estudo</th>\n",
       "      <th>1</th>\n",
       "      <th>2</th>\n",
       "      <th>3</th>\n",
       "      <th>4</th>\n",
       "      <th>5</th>\n",
       "      <th>6</th>\n",
       "      <th>7</th>\n",
       "      <th>All</th>\n",
       "    </tr>\n",
       "    <tr>\n",
       "      <th>Aposentados</th>\n",
       "      <th></th>\n",
       "      <th></th>\n",
       "      <th></th>\n",
       "      <th></th>\n",
       "      <th></th>\n",
       "      <th></th>\n",
       "      <th></th>\n",
       "      <th></th>\n",
       "    </tr>\n",
       "  </thead>\n",
       "  <tbody>\n",
       "    <tr>\n",
       "      <th>2.0</th>\n",
       "      <td>9827</td>\n",
       "      <td>6133</td>\n",
       "      <td>9668</td>\n",
       "      <td>3372</td>\n",
       "      <td>5718</td>\n",
       "      <td>3905</td>\n",
       "      <td>20</td>\n",
       "      <td>38643</td>\n",
       "    </tr>\n",
       "    <tr>\n",
       "      <th>4.0</th>\n",
       "      <td>17628</td>\n",
       "      <td>25428</td>\n",
       "      <td>69082</td>\n",
       "      <td>50634</td>\n",
       "      <td>84532</td>\n",
       "      <td>25440</td>\n",
       "      <td>374</td>\n",
       "      <td>273118</td>\n",
       "    </tr>\n",
       "    <tr>\n",
       "      <th>All</th>\n",
       "      <td>69239</td>\n",
       "      <td>40564</td>\n",
       "      <td>78829</td>\n",
       "      <td>54006</td>\n",
       "      <td>90250</td>\n",
       "      <td>29345</td>\n",
       "      <td>394</td>\n",
       "      <td>362627</td>\n",
       "    </tr>\n",
       "  </tbody>\n",
       "</table>\n",
       "</div>"
      ],
      "text/plain": [
       "anos de estudo      1      2      3      4      5      6    7     All\n",
       "Aposentados                                                          \n",
       "2.0              9827   6133   9668   3372   5718   3905   20   38643\n",
       "4.0             17628  25428  69082  50634  84532  25440  374  273118\n",
       "All             69239  40564  78829  54006  90250  29345  394  362627"
      ]
     },
     "execution_count": 179,
     "metadata": {},
     "output_type": "execute_result"
    }
   ],
   "source": [
    "print('tabela cruzada entre anos de estudo e aposentados em 2014')\n",
    "tabela3=pd.crosstab(aposentados, estudo,margins=True,rownames=['Aposentados'], colnames=['anos de estudo'])\n",
    "tabela3"
   ]
  },
  {
   "cell_type": "code",
   "execution_count": 180,
   "metadata": {
    "collapsed": false
   },
   "outputs": [
    {
     "name": "stdout",
     "output_type": "stream",
     "text": [
      "grafico entre anos de estudo e aposentados e nao aposentados em 2014\n"
     ]
    },
    {
     "data": {
      "text/plain": [
       "<matplotlib.axes._subplots.AxesSubplot at 0x122bfe3ae48>"
      ]
     },
     "execution_count": 180,
     "metadata": {},
     "output_type": "execute_result"
    },
    {
     "data": {
      "image/png": "[encoded data removed]",
      "text/plain": [
       "<matplotlib.figure.Figure at 0x122bfdb49e8>"
      ]
     },
     "metadata": {},
     "output_type": "display_data"
    }
   ],
   "source": [
    "print('grafico entre anos de estudo e aposentados e nao aposentados em 2014')\n",
    "pd.crosstab(aposentados, estudo).plot(kind='bar',figsize=(7,7))"
   ]
  },
  {
   "cell_type": "code",
   "execution_count": null,
   "metadata": {
    "collapsed": false
   },
   "outputs": [],
   "source": []
  },
  {
   "cell_type": "code",
   "execution_count": 181,
   "metadata": {
    "collapsed": false
   },
   "outputs": [
    {
     "name": "stdout",
     "output_type": "stream",
     "text": [
      "tabela cruzada entre anos de estudo e aposentados em 2014 em porcentagem\n"
     ]
    },
    {
     "data": {
      "text/html": [
       "<div>\n",
       "<table border=\"1\" class=\"dataframe\">\n",
       "  <thead>\n",
       "    <tr style=\"text-align: right;\">\n",
       "      <th></th>\n",
       "      <th>1</th>\n",
       "      <th>2</th>\n",
       "      <th>3</th>\n",
       "      <th>4</th>\n",
       "      <th>5</th>\n",
       "      <th>6</th>\n",
       "      <th>7</th>\n",
       "      <th>All</th>\n",
       "    </tr>\n",
       "    <tr>\n",
       "      <th>Aposentados</th>\n",
       "      <th></th>\n",
       "      <th></th>\n",
       "      <th></th>\n",
       "      <th></th>\n",
       "      <th></th>\n",
       "      <th></th>\n",
       "      <th></th>\n",
       "      <th></th>\n",
       "    </tr>\n",
       "  </thead>\n",
       "  <tbody>\n",
       "    <tr>\n",
       "      <th>2</th>\n",
       "      <td>2.71</td>\n",
       "      <td>1.69</td>\n",
       "      <td>2.67</td>\n",
       "      <td>0.93</td>\n",
       "      <td>1.58</td>\n",
       "      <td>1.08</td>\n",
       "      <td>0.01</td>\n",
       "      <td>10.66</td>\n",
       "    </tr>\n",
       "  </tbody>\n",
       "</table>\n",
       "</div>"
      ],
      "text/plain": [
       "                1     2     3     4     5     6     7    All\n",
       "Aposentados                                                 \n",
       "2            2.71  1.69  2.67  0.93  1.58  1.08  0.01  10.66"
      ]
     },
     "execution_count": 181,
     "metadata": {},
     "output_type": "execute_result"
    }
   ],
   "source": [
    "\n",
    "print('tabela cruzada entre anos de estudo e aposentados em 2014 em porcentagem')\n",
    "tabelap3=(tabela3/total_14*100).round(decimals=2)\n",
    "tabelap3.iloc[0:1,]"
   ]
  },
  {
   "cell_type": "code",
   "execution_count": 182,
   "metadata": {
    "collapsed": false
   },
   "outputs": [
    {
     "name": "stdout",
     "output_type": "stream",
     "text": [
      "grafico da freq relativa de anos de estudo dos aposentados em 2014:\n"
     ]
    },
    {
     "data": {
      "text/plain": [
       "<matplotlib.text.Text at 0x122bf94f080>"
      ]
     },
     "execution_count": 182,
     "metadata": {},
     "output_type": "execute_result"
    },
    {
     "data": {
      "image/png": "[encoded data removed]",
      "text/plain": [
       "<matplotlib.figure.Figure at 0x122cb8c8748>"
      ]
     },
     "metadata": {},
     "output_type": "display_data"
    }
   ],
   "source": [
    "print('grafico da freq relativa de anos de estudo dos aposentados em 2014:')\n",
    "grafico3 = pd.crosstab(aposentados,estudo,margins=True,rownames=['Aposentados'], colnames=['anos de estudos'])\n",
    "grafico3 = (grafico3/ total_14*100).round(decimals=0)\n",
    "\n",
    "plot = grafico3.plot(kind='bar',figsize=(8,8))\n",
    "\n",
    "\n",
    "plt.ylabel('Freq.Relativa (em%)')"
   ]
  },
  {
   "cell_type": "code",
   "execution_count": 183,
   "metadata": {
    "collapsed": false
   },
   "outputs": [
    {
     "data": {
      "text/plain": [
       "[0.5, 1.5, -2, 10]"
      ]
     },
     "execution_count": 183,
     "metadata": {},
     "output_type": "execute_result"
    },
    {
     "data": {
      "image/png": "[encoded data removed]",
      "text/plain": [
       "<matplotlib.figure.Figure at 0x122bfc7c9e8>"
      ]
     },
     "metadata": {},
     "output_type": "display_data"
    }
   ],
   "source": [
    "estudo.plot (kind='box') \n",
    "plt.axis([0.5,1.5,-2,10])"
   ]
  },
  {
   "cell_type": "markdown",
   "metadata": {},
   "source": [
    "## <font color='orange'>Analise de aposentados e não aposentados, comparando com anos de estudos em 2001 (separados em categorias)</font>"
   ]
  },
  {
   "cell_type": "code",
   "execution_count": 184,
   "metadata": {
    "collapsed": false
   },
   "outputs": [
    {
     "name": "stdout",
     "output_type": "stream",
     "text": [
      "porcentagem doa anos de estudo para as pessoas de 2001:\n",
      "3    26.8\n",
      "2    16.4\n",
      "1    16.3\n",
      "5    14.0\n",
      "4    12.9\n",
      "6     3.8\n",
      "7     0.4\n",
      "0     0.0\n",
      "Name: v4788, dtype: float64\n"
     ]
    }
   ],
   "source": [
    "print('porcentagem doa anos de estudo para as pessoas de 2001:')\n",
    "\n",
    "ut6 = (estudo_1.value_counts()/total_01*100).round(decimals=1)\n",
    "print(ut6)"
   ]
  },
  {
   "cell_type": "code",
   "execution_count": 185,
   "metadata": {
    "collapsed": false
   },
   "outputs": [
    {
     "data": {
      "text/plain": [
       "<matplotlib.axes._subplots.AxesSubplot at 0x122cd15ff28>"
      ]
     },
     "execution_count": 185,
     "metadata": {},
     "output_type": "execute_result"
    },
    {
     "data": {
      "image/png": "[encoded data removed]",
      "text/plain": [
       "<matplotlib.figure.Figure at 0x122bf937e10>"
      ]
     },
     "metadata": {},
     "output_type": "display_data"
    }
   ],
   "source": [
    "ut6.plot(kind='pie',title='anos de estudos em 2001',autopct='%.1f',figsize=(6, 6))"
   ]
  },
  {
   "cell_type": "code",
   "execution_count": null,
   "metadata": {
    "collapsed": false
   },
   "outputs": [],
   "source": []
  },
  {
   "cell_type": "code",
   "execution_count": 186,
   "metadata": {
    "collapsed": false
   },
   "outputs": [
    {
     "data": {
      "text/plain": [
       "(2, 3]    101589\n",
       "(1, 2]     62141\n",
       "(4, 5]     53014\n",
       "(3, 4]     48809\n",
       "(5, 6]     14377\n",
       "(6, 7]      1404\n",
       "dtype: int64"
      ]
     },
     "execution_count": 186,
     "metadata": {},
     "output_type": "execute_result"
    }
   ],
   "source": [
    "faixa_1 = range(1,8,1)\n",
    "frequencia = pd.cut(estudo_1, faixa_1)\n",
    "frequencia.value_counts()\n"
   ]
  },
  {
   "cell_type": "code",
   "execution_count": 187,
   "metadata": {
    "collapsed": false
   },
   "outputs": [
    {
     "name": "stdout",
     "output_type": "stream",
     "text": [
      "histograma entre anos de estudo para toda a população da Pnad em 2001\n"
     ]
    },
    {
     "data": {
      "image/png": "[encoded data removed]",
      "text/plain": [
       "<matplotlib.figure.Figure at 0x122bfde4240>"
      ]
     },
     "metadata": {},
     "output_type": "display_data"
    }
   ],
   "source": [
    "print('histograma entre anos de estudo para toda a população da Pnad em 2001')\n",
    "plot = estudo_1.plot.hist(bins=faixa_1)"
   ]
  },
  {
   "cell_type": "code",
   "execution_count": 188,
   "metadata": {
    "collapsed": false
   },
   "outputs": [
    {
     "name": "stdout",
     "output_type": "stream",
     "text": [
      "tabela cruzada entre anos de estudo e aposentados em 2001\n"
     ]
    },
    {
     "data": {
      "text/html": [
       "<div>\n",
       "<table border=\"1\" class=\"dataframe\">\n",
       "  <thead>\n",
       "    <tr style=\"text-align: right;\">\n",
       "      <th>anos de estudo</th>\n",
       "      <th>1.0</th>\n",
       "      <th>2.0</th>\n",
       "      <th>3.0</th>\n",
       "      <th>4.0</th>\n",
       "      <th>5.0</th>\n",
       "      <th>6.0</th>\n",
       "      <th>7.0</th>\n",
       "      <th>All</th>\n",
       "    </tr>\n",
       "    <tr>\n",
       "      <th>Aposentados</th>\n",
       "      <th></th>\n",
       "      <th></th>\n",
       "      <th></th>\n",
       "      <th></th>\n",
       "      <th></th>\n",
       "      <th></th>\n",
       "      <th></th>\n",
       "      <th></th>\n",
       "    </tr>\n",
       "  </thead>\n",
       "  <tbody>\n",
       "    <tr>\n",
       "      <th>2.0</th>\n",
       "      <td>10244</td>\n",
       "      <td>5313</td>\n",
       "      <td>7100</td>\n",
       "      <td>1916</td>\n",
       "      <td>3272</td>\n",
       "      <td>2112</td>\n",
       "      <td>16</td>\n",
       "      <td>29975</td>\n",
       "    </tr>\n",
       "    <tr>\n",
       "      <th>4.0</th>\n",
       "      <td>51663</td>\n",
       "      <td>56822</td>\n",
       "      <td>94478</td>\n",
       "      <td>46889</td>\n",
       "      <td>49739</td>\n",
       "      <td>12265</td>\n",
       "      <td>1381</td>\n",
       "      <td>313246</td>\n",
       "    </tr>\n",
       "    <tr>\n",
       "      <th>All</th>\n",
       "      <td>61917</td>\n",
       "      <td>62141</td>\n",
       "      <td>101589</td>\n",
       "      <td>48809</td>\n",
       "      <td>53014</td>\n",
       "      <td>14377</td>\n",
       "      <td>1404</td>\n",
       "      <td>378843</td>\n",
       "    </tr>\n",
       "  </tbody>\n",
       "</table>\n",
       "</div>"
      ],
      "text/plain": [
       "anos de estudo    1.0    2.0     3.0    4.0    5.0    6.0   7.0     All\n",
       "Aposentados                                                            \n",
       "2.0             10244   5313    7100   1916   3272   2112    16   29975\n",
       "4.0             51663  56822   94478  46889  49739  12265  1381  313246\n",
       "All             61917  62141  101589  48809  53014  14377  1404  378843"
      ]
     },
     "execution_count": 188,
     "metadata": {},
     "output_type": "execute_result"
    }
   ],
   "source": [
    "print('tabela cruzada entre anos de estudo e aposentados em 2001')\n",
    "tabela4=pd.crosstab(aposentados_1, estudo_1,margins=True,rownames=['Aposentados'], colnames=['anos de estudo'])\n",
    "tabela4"
   ]
  },
  {
   "cell_type": "code",
   "execution_count": 189,
   "metadata": {
    "collapsed": false
   },
   "outputs": [
    {
     "name": "stdout",
     "output_type": "stream",
     "text": [
      "grafico entre anos de estudo e aposentados e nao aposentados em 2001\n"
     ]
    },
    {
     "data": {
      "text/plain": [
       "<matplotlib.axes._subplots.AxesSubplot at 0x122d2aebe48>"
      ]
     },
     "execution_count": 189,
     "metadata": {},
     "output_type": "execute_result"
    },
    {
     "data": {
      "image/png": "[encoded data removed]",
      "text/plain": [
       "<matplotlib.figure.Figure at 0x122ce37a748>"
      ]
     },
     "metadata": {},
     "output_type": "display_data"
    }
   ],
   "source": [
    "print('grafico entre anos de estudo e aposentados e nao aposentados em 2001')\n",
    "pd.crosstab(aposentados_1, estudo_1).plot(kind='bar')\n"
   ]
  },
  {
   "cell_type": "code",
   "execution_count": 190,
   "metadata": {
    "collapsed": false
   },
   "outputs": [
    {
     "name": "stdout",
     "output_type": "stream",
     "text": [
      "tabela cruzada entre anos de estudo e aposentados em 2001 em porcentagem\n"
     ]
    },
    {
     "data": {
      "text/html": [
       "<div>\n",
       "<table border=\"1\" class=\"dataframe\">\n",
       "  <thead>\n",
       "    <tr style=\"text-align: right;\">\n",
       "      <th></th>\n",
       "      <th>1.0</th>\n",
       "      <th>2.0</th>\n",
       "      <th>3.0</th>\n",
       "      <th>4.0</th>\n",
       "      <th>5.0</th>\n",
       "      <th>6.0</th>\n",
       "      <th>7.0</th>\n",
       "      <th>All</th>\n",
       "    </tr>\n",
       "    <tr>\n",
       "      <th>Aposentados</th>\n",
       "      <th></th>\n",
       "      <th></th>\n",
       "      <th></th>\n",
       "      <th></th>\n",
       "      <th></th>\n",
       "      <th></th>\n",
       "      <th></th>\n",
       "      <th></th>\n",
       "    </tr>\n",
       "  </thead>\n",
       "  <tbody>\n",
       "    <tr>\n",
       "      <th>2</th>\n",
       "      <td>2.7</td>\n",
       "      <td>1.4</td>\n",
       "      <td>1.87</td>\n",
       "      <td>0.51</td>\n",
       "      <td>0.86</td>\n",
       "      <td>0.56</td>\n",
       "      <td>0</td>\n",
       "      <td>7.91</td>\n",
       "    </tr>\n",
       "  </tbody>\n",
       "</table>\n",
       "</div>"
      ],
      "text/plain": [
       "             1.0  2.0   3.0   4.0   5.0   6.0  7.0   All\n",
       "Aposentados                                             \n",
       "2            2.7  1.4  1.87  0.51  0.86  0.56    0  7.91"
      ]
     },
     "execution_count": 190,
     "metadata": {},
     "output_type": "execute_result"
    }
   ],
   "source": [
    "print('tabela cruzada entre anos de estudo e aposentados em 2001 em porcentagem')\n",
    "tabelap4=(tabela4/total_01*100).round(decimals=2)\n",
    "tabelap4.iloc[0:1,]"
   ]
  },
  {
   "cell_type": "code",
   "execution_count": 191,
   "metadata": {
    "collapsed": false
   },
   "outputs": [
    {
     "name": "stdout",
     "output_type": "stream",
     "text": [
      "grafico da freq relativa de anos de estudo dos aposentados em 2001:\n"
     ]
    },
    {
     "data": {
      "text/plain": [
       "<matplotlib.text.Text at 0x122cb449438>"
      ]
     },
     "execution_count": 191,
     "metadata": {},
     "output_type": "execute_result"
    },
    {
     "data": {
      "image/png": "[encoded data removed]",
      "text/plain": [
       "<matplotlib.figure.Figure at 0x122cd100978>"
      ]
     },
     "metadata": {},
     "output_type": "display_data"
    }
   ],
   "source": [
    "print('grafico da freq relativa de anos de estudo dos aposentados em 2001:')\n",
    "grafico4 = pd.crosstab(aposentados_1,estudo_1,margins=True,rownames=['Aposentados'], colnames=['anos de estudos'])\n",
    "grafico4 = (grafico4/ total_01*100).round(decimals=0)\n",
    "\n",
    "plot = grafico4.plot(kind='bar')\n",
    "\n",
    "\n",
    "plt.ylabel('Freq.Relativa (em%)')"
   ]
  },
  {
   "cell_type": "code",
   "execution_count": 192,
   "metadata": {
    "collapsed": false
   },
   "outputs": [
    {
     "data": {
      "text/plain": [
       "[0.5, 1.5, -2, 10]"
      ]
     },
     "execution_count": 192,
     "metadata": {},
     "output_type": "execute_result"
    },
    {
     "data": {
      "image/png": "[encoded data removed]",
      "text/plain": [
       "<matplotlib.figure.Figure at 0x122cb6f0048>"
      ]
     },
     "metadata": {},
     "output_type": "display_data"
    }
   ],
   "source": [
    "estudo_1.plot(kind= 'box')\n",
    "plt.axis([0.5,1.5,-2,10])\n"
   ]
  },
  {
   "cell_type": "markdown",
   "metadata": {},
   "source": [
    "## <font color='blue'>Analise da renda(em quantidades de salários minimos) de aposentados e não aposentados, em 2014 </font>"
   ]
  },
  {
   "cell_type": "code",
   "execution_count": 193,
   "metadata": {
    "collapsed": false
   },
   "outputs": [
    {
     "name": "stdout",
     "output_type": "stream",
     "text": [
      "Mais de ½ até 1 S.M    29.3\n",
      "Mais de 1 até 2 S.M    24.4\n",
      "Mais de ¼ até ½ S.M    17.8\n",
      "Até ¼ S.M               8.1\n",
      "Mais de 2 até 3 S.M     7.6\n",
      "Mais de 3 até 5 S.M     4.8\n",
      "Mais de 5 S.M           3.8\n",
      "Sem declaração          3.6\n",
      "Sem rendimento          0.4\n",
      "dtype: float64\n"
     ]
    }
   ],
   "source": [
    "ut7 = (salario.value_counts()/total_14*100).round(decimals=1)\n",
    "print(ut7)"
   ]
  },
  {
   "cell_type": "code",
   "execution_count": 194,
   "metadata": {
    "collapsed": false
   },
   "outputs": [
    {
     "data": {
      "text/plain": [
       "<matplotlib.axes._subplots.AxesSubplot at 0x122cb510160>"
      ]
     },
     "execution_count": 194,
     "metadata": {},
     "output_type": "execute_result"
    },
    {
     "data": {
      "image/png": "[encoded data removed]",
      "text/plain": [
       "<matplotlib.figure.Figure at 0x122cb5055f8>"
      ]
     },
     "metadata": {},
     "output_type": "display_data"
    }
   ],
   "source": [
    "ut7.plot(kind='pie',title='quantidades de salarios minimos em 2014',autopct='%.1f',figsize=(6, 6))"
   ]
  },
  {
   "cell_type": "code",
   "execution_count": 195,
   "metadata": {
    "collapsed": false
   },
   "outputs": [
    {
     "name": "stdout",
     "output_type": "stream",
     "text": [
      "tabela cruzada entre renda e aposentados em 2014\n"
     ]
    },
    {
     "data": {
      "text/html": [
       "<div>\n",
       "<table border=\"1\" class=\"dataframe\">\n",
       "  <thead>\n",
       "    <tr style=\"text-align: right;\">\n",
       "      <th>quantidades de salarios minimos em 2014</th>\n",
       "      <th>Sem rendimento</th>\n",
       "      <th>Até ¼ S.M</th>\n",
       "      <th>Mais de ¼ até ½ S.M</th>\n",
       "      <th>Mais de ½ até 1 S.M</th>\n",
       "      <th>Mais de 1 até 2 S.M</th>\n",
       "      <th>Mais de 2 até 3 S.M</th>\n",
       "      <th>Mais de 3 até 5 S.M</th>\n",
       "      <th>Mais de 5 S.M</th>\n",
       "      <th>Sem declaração</th>\n",
       "      <th>All</th>\n",
       "    </tr>\n",
       "    <tr>\n",
       "      <th>Aposentados</th>\n",
       "      <th></th>\n",
       "      <th></th>\n",
       "      <th></th>\n",
       "      <th></th>\n",
       "      <th></th>\n",
       "      <th></th>\n",
       "      <th></th>\n",
       "      <th></th>\n",
       "      <th></th>\n",
       "      <th></th>\n",
       "    </tr>\n",
       "  </thead>\n",
       "  <tbody>\n",
       "    <tr>\n",
       "      <th>2.0</th>\n",
       "      <td>0</td>\n",
       "      <td>217</td>\n",
       "      <td>2546</td>\n",
       "      <td>12341</td>\n",
       "      <td>12101</td>\n",
       "      <td>4073</td>\n",
       "      <td>2845</td>\n",
       "      <td>2742</td>\n",
       "      <td>1749</td>\n",
       "      <td>38643</td>\n",
       "    </tr>\n",
       "    <tr>\n",
       "      <th>4.0</th>\n",
       "      <td>1306</td>\n",
       "      <td>21126</td>\n",
       "      <td>47930</td>\n",
       "      <td>79138</td>\n",
       "      <td>68476</td>\n",
       "      <td>21434</td>\n",
       "      <td>13151</td>\n",
       "      <td>10078</td>\n",
       "      <td>9895</td>\n",
       "      <td>273118</td>\n",
       "    </tr>\n",
       "    <tr>\n",
       "      <th>All</th>\n",
       "      <td>1553</td>\n",
       "      <td>29508</td>\n",
       "      <td>64576</td>\n",
       "      <td>106324</td>\n",
       "      <td>88540</td>\n",
       "      <td>27490</td>\n",
       "      <td>17260</td>\n",
       "      <td>13708</td>\n",
       "      <td>13034</td>\n",
       "      <td>362627</td>\n",
       "    </tr>\n",
       "  </tbody>\n",
       "</table>\n",
       "</div>"
      ],
      "text/plain": [
       "quantidades de salarios minimos em 2014  Sem rendimento  Até ¼ S.M  \\\n",
       "Aposentados                                                          \n",
       "2.0                                                   0        217   \n",
       "4.0                                                1306      21126   \n",
       "All                                                1553      29508   \n",
       "\n",
       "quantidades de salarios minimos em 2014  Mais de ¼ até ½ S.M  \\\n",
       "Aposentados                                                    \n",
       "2.0                                                     2546   \n",
       "4.0                                                    47930   \n",
       "All                                                    64576   \n",
       "\n",
       "quantidades de salarios minimos em 2014  Mais de ½ até 1 S.M  \\\n",
       "Aposentados                                                    \n",
       "2.0                                                    12341   \n",
       "4.0                                                    79138   \n",
       "All                                                   106324   \n",
       "\n",
       "quantidades de salarios minimos em 2014  Mais de 1 até 2 S.M  \\\n",
       "Aposentados                                                    \n",
       "2.0                                                    12101   \n",
       "4.0                                                    68476   \n",
       "All                                                    88540   \n",
       "\n",
       "quantidades de salarios minimos em 2014  Mais de 2 até 3 S.M  \\\n",
       "Aposentados                                                    \n",
       "2.0                                                     4073   \n",
       "4.0                                                    21434   \n",
       "All                                                    27490   \n",
       "\n",
       "quantidades de salarios minimos em 2014  Mais de 3 até 5 S.M  Mais de 5 S.M  \\\n",
       "Aposentados                                                                   \n",
       "2.0                                                     2845           2742   \n",
       "4.0                                                    13151          10078   \n",
       "All                                                    17260          13708   \n",
       "\n",
       "quantidades de salarios minimos em 2014  Sem declaração     All  \n",
       "Aposentados                                                      \n",
       "2.0                                                1749   38643  \n",
       "4.0                                                9895  273118  \n",
       "All                                               13034  362627  "
      ]
     },
     "execution_count": 195,
     "metadata": {},
     "output_type": "execute_result"
    }
   ],
   "source": [
    "print('tabela cruzada entre renda e aposentados em 2014')\n",
    "tabela6=pd.crosstab(aposentados, salario,margins=True,rownames=['Aposentados'], colnames=['quantidades de salarios minimos em 2014'])\n",
    "tabela6"
   ]
  },
  {
   "cell_type": "code",
   "execution_count": 196,
   "metadata": {
    "collapsed": false
   },
   "outputs": [
    {
     "name": "stdout",
     "output_type": "stream",
     "text": [
      "grafico entre a quantidade de salarios minimos e pessoas aposentados e nao aposentados em 2014\n"
     ]
    },
    {
     "data": {
      "text/plain": [
       "<matplotlib.axes._subplots.AxesSubplot at 0x122cb564438>"
      ]
     },
     "execution_count": 196,
     "metadata": {},
     "output_type": "execute_result"
    },
    {
     "data": {
      "image/png": "[encoded data removed]",
      "text/plain": [
       "<matplotlib.figure.Figure at 0x122cde75be0>"
      ]
     },
     "metadata": {},
     "output_type": "display_data"
    }
   ],
   "source": [
    "print('grafico entre a quantidade de salarios minimos e pessoas aposentados e nao aposentados em 2014')\n",
    "pd.crosstab(aposentados, salario).plot(kind='bar',figsize=(6, 6))\n"
   ]
  },
  {
   "cell_type": "code",
   "execution_count": 197,
   "metadata": {
    "collapsed": false
   },
   "outputs": [
    {
     "name": "stdout",
     "output_type": "stream",
     "text": [
      "tabela cruzada entre anos de estudo e aposentados em 2014 em porcentagem\n"
     ]
    },
    {
     "data": {
      "text/html": [
       "<div>\n",
       "<table border=\"1\" class=\"dataframe\">\n",
       "  <thead>\n",
       "    <tr style=\"text-align: right;\">\n",
       "      <th></th>\n",
       "      <th>Sem rendimento</th>\n",
       "      <th>Até ¼ S.M</th>\n",
       "      <th>Mais de ¼ até ½ S.M</th>\n",
       "      <th>Mais de ½ até 1 S.M</th>\n",
       "      <th>Mais de 1 até 2 S.M</th>\n",
       "      <th>Mais de 2 até 3 S.M</th>\n",
       "      <th>Mais de 3 até 5 S.M</th>\n",
       "      <th>Mais de 5 S.M</th>\n",
       "      <th>Sem declaração</th>\n",
       "      <th>All</th>\n",
       "    </tr>\n",
       "    <tr>\n",
       "      <th>Aposentados</th>\n",
       "      <th></th>\n",
       "      <th></th>\n",
       "      <th></th>\n",
       "      <th></th>\n",
       "      <th></th>\n",
       "      <th></th>\n",
       "      <th></th>\n",
       "      <th></th>\n",
       "      <th></th>\n",
       "      <th></th>\n",
       "    </tr>\n",
       "  </thead>\n",
       "  <tbody>\n",
       "    <tr>\n",
       "      <th>2.0</th>\n",
       "      <td>0.00</td>\n",
       "      <td>0.06</td>\n",
       "      <td>0.70</td>\n",
       "      <td>3.40</td>\n",
       "      <td>3.34</td>\n",
       "      <td>1.12</td>\n",
       "      <td>0.78</td>\n",
       "      <td>0.76</td>\n",
       "      <td>0.48</td>\n",
       "      <td>10.66</td>\n",
       "    </tr>\n",
       "    <tr>\n",
       "      <th>4.0</th>\n",
       "      <td>0.36</td>\n",
       "      <td>5.83</td>\n",
       "      <td>13.22</td>\n",
       "      <td>21.82</td>\n",
       "      <td>18.88</td>\n",
       "      <td>5.91</td>\n",
       "      <td>3.63</td>\n",
       "      <td>2.78</td>\n",
       "      <td>2.73</td>\n",
       "      <td>75.32</td>\n",
       "    </tr>\n",
       "    <tr>\n",
       "      <th>All</th>\n",
       "      <td>0.43</td>\n",
       "      <td>8.14</td>\n",
       "      <td>17.81</td>\n",
       "      <td>29.32</td>\n",
       "      <td>24.42</td>\n",
       "      <td>7.58</td>\n",
       "      <td>4.76</td>\n",
       "      <td>3.78</td>\n",
       "      <td>3.59</td>\n",
       "      <td>100.00</td>\n",
       "    </tr>\n",
       "  </tbody>\n",
       "</table>\n",
       "</div>"
      ],
      "text/plain": [
       "             Sem rendimento  Até ¼ S.M  Mais de ¼ até ½ S.M  \\\n",
       "Aposentados                                                   \n",
       "2.0                    0.00       0.06                 0.70   \n",
       "4.0                    0.36       5.83                13.22   \n",
       "All                    0.43       8.14                17.81   \n",
       "\n",
       "             Mais de ½ até 1 S.M  Mais de 1 até 2 S.M  Mais de 2 até 3 S.M  \\\n",
       "Aposentados                                                                  \n",
       "2.0                         3.40                 3.34                 1.12   \n",
       "4.0                        21.82                18.88                 5.91   \n",
       "All                        29.32                24.42                 7.58   \n",
       "\n",
       "             Mais de 3 até 5 S.M  Mais de 5 S.M  Sem declaração     All  \n",
       "Aposentados                                                              \n",
       "2.0                         0.78           0.76            0.48   10.66  \n",
       "4.0                         3.63           2.78            2.73   75.32  \n",
       "All                         4.76           3.78            3.59  100.00  "
      ]
     },
     "execution_count": 197,
     "metadata": {},
     "output_type": "execute_result"
    }
   ],
   "source": [
    "print('tabela cruzada entre anos de estudo e aposentados em 2014 em porcentagem')\n",
    "tabelap6=(tabela6/total_14*100).round(decimals=2)\n",
    "tabelap6"
   ]
  },
  {
   "cell_type": "code",
   "execution_count": 198,
   "metadata": {
    "collapsed": false
   },
   "outputs": [
    {
     "name": "stdout",
     "output_type": "stream",
     "text": [
      "grafico da freq relativa da quantidade de salarios minimos para os aposentados em 2014:\n"
     ]
    },
    {
     "data": {
      "text/plain": [
       "<matplotlib.text.Text at 0x122cb618128>"
      ]
     },
     "execution_count": 198,
     "metadata": {},
     "output_type": "execute_result"
    },
    {
     "data": {
      "image/png": "[encoded data removed]",
      "text/plain": [
       "<matplotlib.figure.Figure at 0x122cb50d0f0>"
      ]
     },
     "metadata": {},
     "output_type": "display_data"
    }
   ],
   "source": [
    "print('grafico da freq relativa da quantidade de salarios minimos para os aposentados em 2014:')\n",
    "grafico5 = pd.crosstab(aposentados,salario,margins=True,rownames=['Aposentados'], colnames=['quantidade de salrios minimos'])\n",
    "grafico5 = (grafico5/ total_14*100).round(decimals=0)\n",
    "grafico5.plot(kind='bar',figsize=(6, 6))\n",
    "\n",
    "\n",
    "\n",
    "plt.ylabel('Freq.Relativa (em%)')\n"
   ]
  },
  {
   "cell_type": "markdown",
   "metadata": {},
   "source": [
    "## <font color='blue'>Analise da renda(em quantidades de salários minimos) de aposentados e não aposentados, em 2001 </font>"
   ]
  },
  {
   "cell_type": "code",
   "execution_count": null,
   "metadata": {
    "collapsed": false
   },
   "outputs": [],
   "source": []
  },
  {
   "cell_type": "code",
   "execution_count": 200,
   "metadata": {
    "collapsed": false
   },
   "outputs": [
    {
     "data": {
      "text/plain": [
       "<matplotlib.axes._subplots.AxesSubplot at 0x122cb890c18>"
      ]
     },
     "execution_count": 200,
     "metadata": {},
     "output_type": "execute_result"
    },
    {
     "data": {
      "image/png": "[encoded data removed]",
      "text/plain": [
       "<matplotlib.figure.Figure at 0x122cb5b9c18>"
      ]
     },
     "metadata": {},
     "output_type": "display_data"
    }
   ],
   "source": [
    "ut8.plot(kind='pie',title='quantidades de salarios minimos em 2001',autopct='%.1f',figsize=(6, 6))"
   ]
  },
  {
   "cell_type": "code",
   "execution_count": 201,
   "metadata": {
    "collapsed": false
   },
   "outputs": [
    {
     "name": "stdout",
     "output_type": "stream",
     "text": [
      "tabela cruzada entre renda e aposentados em 2001\n"
     ]
    },
    {
     "data": {
      "text/html": [
       "<div>\n",
       "<table border=\"1\" class=\"dataframe\">\n",
       "  <thead>\n",
       "    <tr style=\"text-align: right;\">\n",
       "      <th>quantidades de salarios minimos em 2014</th>\n",
       "      <th>Até ½ S.M</th>\n",
       "      <th>Mais de ½ até 1 S.M</th>\n",
       "      <th>Mais de 1 até 2 S.M</th>\n",
       "      <th>Mais de 2 até 3 S.M</th>\n",
       "      <th>Mais de 3 até 5 S.M</th>\n",
       "      <th>Mais de 5 S.M</th>\n",
       "      <th>Mais de 5 S..M</th>\n",
       "      <th>mais de 5 S..M</th>\n",
       "      <th>Sem declaração</th>\n",
       "      <th>Prejuízo</th>\n",
       "      <th>All</th>\n",
       "    </tr>\n",
       "    <tr>\n",
       "      <th>Aposentados</th>\n",
       "      <th></th>\n",
       "      <th></th>\n",
       "      <th></th>\n",
       "      <th></th>\n",
       "      <th></th>\n",
       "      <th></th>\n",
       "      <th></th>\n",
       "      <th></th>\n",
       "      <th></th>\n",
       "      <th></th>\n",
       "      <th></th>\n",
       "    </tr>\n",
       "  </thead>\n",
       "  <tbody>\n",
       "    <tr>\n",
       "      <th>0.0</th>\n",
       "      <td>0</td>\n",
       "      <td>0</td>\n",
       "      <td>0</td>\n",
       "      <td>0</td>\n",
       "      <td>1</td>\n",
       "      <td>0</td>\n",
       "      <td>1</td>\n",
       "      <td>0</td>\n",
       "      <td>0</td>\n",
       "      <td>0</td>\n",
       "      <td>5</td>\n",
       "    </tr>\n",
       "    <tr>\n",
       "      <th>2.0</th>\n",
       "      <td>77</td>\n",
       "      <td>1012</td>\n",
       "      <td>1215</td>\n",
       "      <td>1342</td>\n",
       "      <td>698</td>\n",
       "      <td>682</td>\n",
       "      <td>681</td>\n",
       "      <td>409</td>\n",
       "      <td>224</td>\n",
       "      <td>257</td>\n",
       "      <td>29975</td>\n",
       "    </tr>\n",
       "    <tr>\n",
       "      <th>4.0</th>\n",
       "      <td>220</td>\n",
       "      <td>12005</td>\n",
       "      <td>27793</td>\n",
       "      <td>44394</td>\n",
       "      <td>20419</td>\n",
       "      <td>16799</td>\n",
       "      <td>11742</td>\n",
       "      <td>5053</td>\n",
       "      <td>2071</td>\n",
       "      <td>1724</td>\n",
       "      <td>313246</td>\n",
       "    </tr>\n",
       "    <tr>\n",
       "      <th>All</th>\n",
       "      <td>299</td>\n",
       "      <td>13018</td>\n",
       "      <td>29008</td>\n",
       "      <td>45737</td>\n",
       "      <td>21118</td>\n",
       "      <td>17481</td>\n",
       "      <td>12424</td>\n",
       "      <td>5462</td>\n",
       "      <td>2295</td>\n",
       "      <td>1981</td>\n",
       "      <td>378843</td>\n",
       "    </tr>\n",
       "  </tbody>\n",
       "</table>\n",
       "</div>"
      ],
      "text/plain": [
       "quantidades de salarios minimos em 2014  Até ½ S.M  Mais de ½ até 1 S.M  \\\n",
       "Aposentados                                                               \n",
       "0.0                                              0                    0   \n",
       "2.0                                             77                 1012   \n",
       "4.0                                            220                12005   \n",
       "All                                            299                13018   \n",
       "\n",
       "quantidades de salarios minimos em 2014  Mais de 1 até 2 S.M  \\\n",
       "Aposentados                                                    \n",
       "0.0                                                        0   \n",
       "2.0                                                     1215   \n",
       "4.0                                                    27793   \n",
       "All                                                    29008   \n",
       "\n",
       "quantidades de salarios minimos em 2014  Mais de 2 até 3 S.M  \\\n",
       "Aposentados                                                    \n",
       "0.0                                                        0   \n",
       "2.0                                                     1342   \n",
       "4.0                                                    44394   \n",
       "All                                                    45737   \n",
       "\n",
       "quantidades de salarios minimos em 2014  Mais de 3 até 5 S.M  Mais de 5 S.M  \\\n",
       "Aposentados                                                                   \n",
       "0.0                                                        1              0   \n",
       "2.0                                                      698            682   \n",
       "4.0                                                    20419          16799   \n",
       "All                                                    21118          17481   \n",
       "\n",
       "quantidades de salarios minimos em 2014  Mais de 5 S..M  mais de 5 S..M  \\\n",
       "Aposentados                                                               \n",
       "0.0                                                   1               0   \n",
       "2.0                                                 681             409   \n",
       "4.0                                               11742            5053   \n",
       "All                                               12424            5462   \n",
       "\n",
       "quantidades de salarios minimos em 2014  Sem declaração  Prejuízo     All  \n",
       "Aposentados                                                                \n",
       "0.0                                                   0         0       5  \n",
       "2.0                                                 224       257   29975  \n",
       "4.0                                                2071      1724  313246  \n",
       "All                                                2295      1981  378843  "
      ]
     },
     "execution_count": 201,
     "metadata": {},
     "output_type": "execute_result"
    }
   ],
   "source": [
    "print('tabela cruzada entre renda e aposentados em 2001')\n",
    "tabela7=pd.crosstab(aposentados_1, salario_1,margins=True,rownames=['Aposentados'], colnames=['quantidades de salarios minimos em 2014'])\n",
    "tabela7"
   ]
  },
  {
   "cell_type": "code",
   "execution_count": 202,
   "metadata": {
    "collapsed": false
   },
   "outputs": [
    {
     "data": {
      "text/plain": [
       "<matplotlib.axes._subplots.AxesSubplot at 0x122cbaec320>"
      ]
     },
     "execution_count": 202,
     "metadata": {},
     "output_type": "execute_result"
    },
    {
     "data": {
      "image/png": "[encoded data removed]",
      "text/plain": [
       "<matplotlib.figure.Figure at 0x122cc34feb8>"
      ]
     },
     "metadata": {},
     "output_type": "display_data"
    }
   ],
   "source": [
    "pd.crosstab(aposentados_1, salario_1).plot(kind='bar',figsize=(6, 6))"
   ]
  },
  {
   "cell_type": "raw",
   "metadata": {},
   "source": []
  },
  {
   "cell_type": "code",
   "execution_count": 203,
   "metadata": {
    "collapsed": false
   },
   "outputs": [
    {
     "name": "stdout",
     "output_type": "stream",
     "text": [
      "tabela cruzada entre anos de estudo e aposentados em 2001 em porcentagem\n"
     ]
    },
    {
     "data": {
      "text/html": [
       "<div>\n",
       "<table border=\"1\" class=\"dataframe\">\n",
       "  <thead>\n",
       "    <tr style=\"text-align: right;\">\n",
       "      <th></th>\n",
       "      <th>Até ½ S.M</th>\n",
       "      <th>Mais de ½ até 1 S.M</th>\n",
       "      <th>Mais de 1 até 2 S.M</th>\n",
       "      <th>Mais de 2 até 3 S.M</th>\n",
       "      <th>Mais de 3 até 5 S.M</th>\n",
       "      <th>Mais de 5 S.M</th>\n",
       "      <th>Mais de 5 S..M</th>\n",
       "      <th>mais de 5 S..M</th>\n",
       "      <th>Sem declaração</th>\n",
       "      <th>Prejuízo</th>\n",
       "      <th>All</th>\n",
       "    </tr>\n",
       "    <tr>\n",
       "      <th>Aposentados</th>\n",
       "      <th></th>\n",
       "      <th></th>\n",
       "      <th></th>\n",
       "      <th></th>\n",
       "      <th></th>\n",
       "      <th></th>\n",
       "      <th></th>\n",
       "      <th></th>\n",
       "      <th></th>\n",
       "      <th></th>\n",
       "      <th></th>\n",
       "    </tr>\n",
       "  </thead>\n",
       "  <tbody>\n",
       "    <tr>\n",
       "      <th>2</th>\n",
       "      <td>0.02</td>\n",
       "      <td>0.27</td>\n",
       "      <td>0.32</td>\n",
       "      <td>0.35</td>\n",
       "      <td>0.18</td>\n",
       "      <td>0.18</td>\n",
       "      <td>0.18</td>\n",
       "      <td>0.11</td>\n",
       "      <td>0.06</td>\n",
       "      <td>0.07</td>\n",
       "      <td>7.91</td>\n",
       "    </tr>\n",
       "  </tbody>\n",
       "</table>\n",
       "</div>"
      ],
      "text/plain": [
       "             Até ½ S.M  Mais de ½ até 1 S.M  Mais de 1 até 2 S.M  \\\n",
       "Aposentados                                                        \n",
       "2                 0.02                 0.27                 0.32   \n",
       "\n",
       "             Mais de 2 até 3 S.M  Mais de 3 até 5 S.M  Mais de 5 S.M  \\\n",
       "Aposentados                                                            \n",
       "2                           0.35                 0.18           0.18   \n",
       "\n",
       "             Mais de 5 S..M  mais de 5 S..M  Sem declaração  Prejuízo   All  \n",
       "Aposentados                                                                  \n",
       "2                      0.18            0.11            0.06      0.07  7.91  "
      ]
     },
     "execution_count": 203,
     "metadata": {},
     "output_type": "execute_result"
    }
   ],
   "source": [
    "print('tabela cruzada entre anos de estudo e aposentados em 2001 em porcentagem')\n",
    "tabelap7=(tabela7/total_01*100).round(decimals=2)\n",
    "tabelap7.iloc[1:2,]"
   ]
  },
  {
   "cell_type": "code",
   "execution_count": 204,
   "metadata": {
    "collapsed": false
   },
   "outputs": [
    {
     "name": "stdout",
     "output_type": "stream",
     "text": [
      "grafico da freq relativa da quantidade de salarios minimos para os aposentados em 2014:\n"
     ]
    },
    {
     "data": {
      "text/plain": [
       "<matplotlib.text.Text at 0x122cd15b278>"
      ]
     },
     "execution_count": 204,
     "metadata": {},
     "output_type": "execute_result"
    },
    {
     "data": {
      "image/png": "[encoded data removed]",
      "text/plain": [
       "<matplotlib.figure.Figure at 0x122cb519898>"
      ]
     },
     "metadata": {},
     "output_type": "display_data"
    }
   ],
   "source": [
    "print('grafico da freq relativa da quantidade de salarios minimos para os aposentados em 2014:')\n",
    "grafico6 = pd.crosstab(aposentados_01,salario_1,margins=True,rownames=['Aposentados'], colnames=['quantidade de salrios minimos'])\n",
    "grafico6 = (grafico6/ total_01*100).round(decimals=0)\n",
    "\n",
    "plot = grafico6.plot(kind='bar',figsize=(6, 6))\n",
    "\n",
    "\n",
    "plt.ylabel('Freq.Relativa (em%)')"
   ]
  },
  {
   "cell_type": "markdown",
   "metadata": {
    "collapsed": true
   },
   "source": [
    "## Conclusão\n",
    "\n",
    "Neste primeiro projeto chegeui a conclusão que o aumento da educação está diretamente relacionada ao aumento da quantidade de salarios minimos recebidos. Podemos ver que de 2001 apenas 17,8% dos aposentados tinham mais de 11 anos de estudos, a educaçao em 2014 quase dobrou, em 2014 34% dos aposentados tinham mais de 11 anos de estudos. E ao analisar a renda, também podemos ver um aumento significativo. Em 2001 apenas 0,47% das pessoas eram aposentadas e ganhavam mais de 5 salarios minimos. Em 2014 0,76% das pessoas eram aposentadas e ganhavam mais de 5 salarios minimos. Após analisar estas variavéis vi que o aumento da educação está envolvida com o aumento da renda\n"
   ]
  },
  {
   "cell_type": "code",
   "execution_count": null,
   "metadata": {
    "collapsed": true
   },
   "outputs": [],
   "source": []
  }
 ],
 "metadata": {
  "anaconda-cloud": {},
  "kernelspec": {
   "display_name": "Python 3",
   "language": "python",
   "name": "python3"
  },
  "language_info": {
   "codemirror_mode": {
    "name": "ipython",
    "version": 3
   },
   "file_extension": ".py",
   "mimetype": "text/x-python",
   "name": "python",
   "nbconvert_exporter": "python",
   "pygments_lexer": "ipython3",
   "version": "3.5.1"
  }
 },
 "nbformat": 4,
 "nbformat_minor": 0
}
